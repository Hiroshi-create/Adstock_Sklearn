{
 "cells": [
  {
   "cell_type": "code",
   "execution_count": 1,
   "id": "0dbad7d0",
   "metadata": {},
   "outputs": [],
   "source": [
    "import pandas as pd\n",
    "import numpy as np\n",
    "from sklearn.datasets import load_boston\n",
    "from sklearn.model_selection import train_test_split\n",
    "import matplotlib.pyplot as plt\n",
    "%matplotlib inline\n",
    "\n",
    "#識別子の作成\n",
    "from sklearn.base import BaseEstimator, TransformerMixin"
   ]
  },
  {
   "cell_type": "markdown",
   "id": "ffb63d1d",
   "metadata": {},
   "source": [
    "# sklearnのようなClassの作成"
   ]
  },
  {
   "cell_type": "code",
   "execution_count": 8,
   "id": "ff03d546",
   "metadata": {},
   "outputs": [],
   "source": [
    "class SimpleConverter(BaseEstimator, TransformerMixin):\n",
    "    def __init__(self):\n",
    "        self.x_mean = None\n",
    "          \n",
    "    def fit(self, X, y=None):\n",
    "        self.x_mean = X.mean(axis=0)\n",
    "        self.transformed = pd.DataFrame(np.zeros_like(X))\n",
    "        #print(self.x_mean)\n",
    "        return self\n",
    "    \n",
    "    def transform(self, X):     \n",
    "        self.transformed.columns = X.columns\n",
    "        for col in X.columns:\n",
    "            for row in range(X.shape[0]):\n",
    "                self.transformed.loc[row, col] = X.loc[row , col]  - self.x_mean[col]\n",
    "        return self.transformed"
   ]
  },
  {
   "cell_type": "code",
   "execution_count": 9,
   "id": "c46f41c7",
   "metadata": {},
   "outputs": [],
   "source": [
    "# サンプルデータの用意\n",
    "boston = load_boston()\n",
    "df_X = pd.DataFrame(data=boston.data, columns=boston.feature_names)\n",
    "df_y =  pd.Series(boston.target, name=\"MEDV\")"
   ]
  },
  {
   "cell_type": "code",
   "execution_count": 10,
   "id": "3c6d1ea2",
   "metadata": {},
   "outputs": [
    {
     "data": {
      "text/html": [
       "<div>\n",
       "<style scoped>\n",
       "    .dataframe tbody tr th:only-of-type {\n",
       "        vertical-align: middle;\n",
       "    }\n",
       "\n",
       "    .dataframe tbody tr th {\n",
       "        vertical-align: top;\n",
       "    }\n",
       "\n",
       "    .dataframe thead th {\n",
       "        text-align: right;\n",
       "    }\n",
       "</style>\n",
       "<table border=\"1\" class=\"dataframe\">\n",
       "  <thead>\n",
       "    <tr style=\"text-align: right;\">\n",
       "      <th></th>\n",
       "      <th>CRIM</th>\n",
       "      <th>ZN</th>\n",
       "      <th>INDUS</th>\n",
       "      <th>CHAS</th>\n",
       "      <th>NOX</th>\n",
       "      <th>RM</th>\n",
       "      <th>AGE</th>\n",
       "      <th>DIS</th>\n",
       "      <th>RAD</th>\n",
       "      <th>TAX</th>\n",
       "      <th>PTRATIO</th>\n",
       "      <th>B</th>\n",
       "      <th>LSTAT</th>\n",
       "    </tr>\n",
       "  </thead>\n",
       "  <tbody>\n",
       "    <tr>\n",
       "      <th>0</th>\n",
       "      <td>0.00632</td>\n",
       "      <td>18.0</td>\n",
       "      <td>2.31</td>\n",
       "      <td>0.0</td>\n",
       "      <td>0.538</td>\n",
       "      <td>6.575</td>\n",
       "      <td>65.2</td>\n",
       "      <td>4.0900</td>\n",
       "      <td>1.0</td>\n",
       "      <td>296.0</td>\n",
       "      <td>15.3</td>\n",
       "      <td>396.90</td>\n",
       "      <td>4.98</td>\n",
       "    </tr>\n",
       "    <tr>\n",
       "      <th>1</th>\n",
       "      <td>0.02731</td>\n",
       "      <td>0.0</td>\n",
       "      <td>7.07</td>\n",
       "      <td>0.0</td>\n",
       "      <td>0.469</td>\n",
       "      <td>6.421</td>\n",
       "      <td>78.9</td>\n",
       "      <td>4.9671</td>\n",
       "      <td>2.0</td>\n",
       "      <td>242.0</td>\n",
       "      <td>17.8</td>\n",
       "      <td>396.90</td>\n",
       "      <td>9.14</td>\n",
       "    </tr>\n",
       "    <tr>\n",
       "      <th>2</th>\n",
       "      <td>0.02729</td>\n",
       "      <td>0.0</td>\n",
       "      <td>7.07</td>\n",
       "      <td>0.0</td>\n",
       "      <td>0.469</td>\n",
       "      <td>7.185</td>\n",
       "      <td>61.1</td>\n",
       "      <td>4.9671</td>\n",
       "      <td>2.0</td>\n",
       "      <td>242.0</td>\n",
       "      <td>17.8</td>\n",
       "      <td>392.83</td>\n",
       "      <td>4.03</td>\n",
       "    </tr>\n",
       "    <tr>\n",
       "      <th>3</th>\n",
       "      <td>0.03237</td>\n",
       "      <td>0.0</td>\n",
       "      <td>2.18</td>\n",
       "      <td>0.0</td>\n",
       "      <td>0.458</td>\n",
       "      <td>6.998</td>\n",
       "      <td>45.8</td>\n",
       "      <td>6.0622</td>\n",
       "      <td>3.0</td>\n",
       "      <td>222.0</td>\n",
       "      <td>18.7</td>\n",
       "      <td>394.63</td>\n",
       "      <td>2.94</td>\n",
       "    </tr>\n",
       "    <tr>\n",
       "      <th>4</th>\n",
       "      <td>0.06905</td>\n",
       "      <td>0.0</td>\n",
       "      <td>2.18</td>\n",
       "      <td>0.0</td>\n",
       "      <td>0.458</td>\n",
       "      <td>7.147</td>\n",
       "      <td>54.2</td>\n",
       "      <td>6.0622</td>\n",
       "      <td>3.0</td>\n",
       "      <td>222.0</td>\n",
       "      <td>18.7</td>\n",
       "      <td>396.90</td>\n",
       "      <td>5.33</td>\n",
       "    </tr>\n",
       "  </tbody>\n",
       "</table>\n",
       "</div>"
      ],
      "text/plain": [
       "      CRIM    ZN  INDUS  CHAS    NOX     RM   AGE     DIS  RAD    TAX  \\\n",
       "0  0.00632  18.0   2.31   0.0  0.538  6.575  65.2  4.0900  1.0  296.0   \n",
       "1  0.02731   0.0   7.07   0.0  0.469  6.421  78.9  4.9671  2.0  242.0   \n",
       "2  0.02729   0.0   7.07   0.0  0.469  7.185  61.1  4.9671  2.0  242.0   \n",
       "3  0.03237   0.0   2.18   0.0  0.458  6.998  45.8  6.0622  3.0  222.0   \n",
       "4  0.06905   0.0   2.18   0.0  0.458  7.147  54.2  6.0622  3.0  222.0   \n",
       "\n",
       "   PTRATIO       B  LSTAT  \n",
       "0     15.3  396.90   4.98  \n",
       "1     17.8  396.90   9.14  \n",
       "2     17.8  392.83   4.03  \n",
       "3     18.7  394.63   2.94  \n",
       "4     18.7  396.90   5.33  "
      ]
     },
     "execution_count": 10,
     "metadata": {},
     "output_type": "execute_result"
    }
   ],
   "source": [
    "df_X.head()"
   ]
  },
  {
   "cell_type": "code",
   "execution_count": 11,
   "id": "3e698356",
   "metadata": {},
   "outputs": [
    {
     "data": {
      "text/html": [
       "<div>\n",
       "<style scoped>\n",
       "    .dataframe tbody tr th:only-of-type {\n",
       "        vertical-align: middle;\n",
       "    }\n",
       "\n",
       "    .dataframe tbody tr th {\n",
       "        vertical-align: top;\n",
       "    }\n",
       "\n",
       "    .dataframe thead th {\n",
       "        text-align: right;\n",
       "    }\n",
       "</style>\n",
       "<table border=\"1\" class=\"dataframe\">\n",
       "  <thead>\n",
       "    <tr style=\"text-align: right;\">\n",
       "      <th></th>\n",
       "      <th>CRIM</th>\n",
       "      <th>ZN</th>\n",
       "      <th>INDUS</th>\n",
       "      <th>CHAS</th>\n",
       "      <th>NOX</th>\n",
       "      <th>RM</th>\n",
       "      <th>AGE</th>\n",
       "      <th>DIS</th>\n",
       "      <th>RAD</th>\n",
       "      <th>TAX</th>\n",
       "      <th>PTRATIO</th>\n",
       "      <th>B</th>\n",
       "      <th>LSTAT</th>\n",
       "    </tr>\n",
       "  </thead>\n",
       "  <tbody>\n",
       "    <tr>\n",
       "      <th>501</th>\n",
       "      <td>0.06263</td>\n",
       "      <td>0.0</td>\n",
       "      <td>11.93</td>\n",
       "      <td>0.0</td>\n",
       "      <td>0.573</td>\n",
       "      <td>6.593</td>\n",
       "      <td>69.1</td>\n",
       "      <td>2.4786</td>\n",
       "      <td>1.0</td>\n",
       "      <td>273.0</td>\n",
       "      <td>21.0</td>\n",
       "      <td>391.99</td>\n",
       "      <td>9.67</td>\n",
       "    </tr>\n",
       "    <tr>\n",
       "      <th>502</th>\n",
       "      <td>0.04527</td>\n",
       "      <td>0.0</td>\n",
       "      <td>11.93</td>\n",
       "      <td>0.0</td>\n",
       "      <td>0.573</td>\n",
       "      <td>6.120</td>\n",
       "      <td>76.7</td>\n",
       "      <td>2.2875</td>\n",
       "      <td>1.0</td>\n",
       "      <td>273.0</td>\n",
       "      <td>21.0</td>\n",
       "      <td>396.90</td>\n",
       "      <td>9.08</td>\n",
       "    </tr>\n",
       "    <tr>\n",
       "      <th>503</th>\n",
       "      <td>0.06076</td>\n",
       "      <td>0.0</td>\n",
       "      <td>11.93</td>\n",
       "      <td>0.0</td>\n",
       "      <td>0.573</td>\n",
       "      <td>6.976</td>\n",
       "      <td>91.0</td>\n",
       "      <td>2.1675</td>\n",
       "      <td>1.0</td>\n",
       "      <td>273.0</td>\n",
       "      <td>21.0</td>\n",
       "      <td>396.90</td>\n",
       "      <td>5.64</td>\n",
       "    </tr>\n",
       "    <tr>\n",
       "      <th>504</th>\n",
       "      <td>0.10959</td>\n",
       "      <td>0.0</td>\n",
       "      <td>11.93</td>\n",
       "      <td>0.0</td>\n",
       "      <td>0.573</td>\n",
       "      <td>6.794</td>\n",
       "      <td>89.3</td>\n",
       "      <td>2.3889</td>\n",
       "      <td>1.0</td>\n",
       "      <td>273.0</td>\n",
       "      <td>21.0</td>\n",
       "      <td>393.45</td>\n",
       "      <td>6.48</td>\n",
       "    </tr>\n",
       "    <tr>\n",
       "      <th>505</th>\n",
       "      <td>0.04741</td>\n",
       "      <td>0.0</td>\n",
       "      <td>11.93</td>\n",
       "      <td>0.0</td>\n",
       "      <td>0.573</td>\n",
       "      <td>6.030</td>\n",
       "      <td>80.8</td>\n",
       "      <td>2.5050</td>\n",
       "      <td>1.0</td>\n",
       "      <td>273.0</td>\n",
       "      <td>21.0</td>\n",
       "      <td>396.90</td>\n",
       "      <td>7.88</td>\n",
       "    </tr>\n",
       "  </tbody>\n",
       "</table>\n",
       "</div>"
      ],
      "text/plain": [
       "        CRIM   ZN  INDUS  CHAS    NOX     RM   AGE     DIS  RAD    TAX  \\\n",
       "501  0.06263  0.0  11.93   0.0  0.573  6.593  69.1  2.4786  1.0  273.0   \n",
       "502  0.04527  0.0  11.93   0.0  0.573  6.120  76.7  2.2875  1.0  273.0   \n",
       "503  0.06076  0.0  11.93   0.0  0.573  6.976  91.0  2.1675  1.0  273.0   \n",
       "504  0.10959  0.0  11.93   0.0  0.573  6.794  89.3  2.3889  1.0  273.0   \n",
       "505  0.04741  0.0  11.93   0.0  0.573  6.030  80.8  2.5050  1.0  273.0   \n",
       "\n",
       "     PTRATIO       B  LSTAT  \n",
       "501     21.0  391.99   9.67  \n",
       "502     21.0  396.90   9.08  \n",
       "503     21.0  396.90   5.64  \n",
       "504     21.0  393.45   6.48  \n",
       "505     21.0  396.90   7.88  "
      ]
     },
     "execution_count": 11,
     "metadata": {},
     "output_type": "execute_result"
    }
   ],
   "source": [
    "df_X.tail()"
   ]
  },
  {
   "cell_type": "code",
   "execution_count": 12,
   "id": "7703cc4d",
   "metadata": {},
   "outputs": [
    {
     "data": {
      "text/plain": [
       "(88.9762, 0.00632, 3.6135235573122535)"
      ]
     },
     "execution_count": 12,
     "metadata": {},
     "output_type": "execute_result"
    }
   ],
   "source": [
    "df_X[\"CRIM\"].max(), df_X[\"CRIM\"].min(),df_X[\"CRIM\"].mean() "
   ]
  },
  {
   "cell_type": "code",
   "execution_count": 13,
   "id": "5a4389db",
   "metadata": {},
   "outputs": [
    {
     "data": {
      "text/plain": [
       "CRIM         3.613524\n",
       "ZN          11.363636\n",
       "INDUS       11.136779\n",
       "CHAS         0.069170\n",
       "NOX          0.554695\n",
       "RM           6.284634\n",
       "AGE         68.574901\n",
       "DIS          3.795043\n",
       "RAD          9.549407\n",
       "TAX        408.237154\n",
       "PTRATIO     18.455534\n",
       "B          356.674032\n",
       "LSTAT       12.653063\n",
       "dtype: float64"
      ]
     },
     "execution_count": 13,
     "metadata": {},
     "output_type": "execute_result"
    }
   ],
   "source": [
    "df_X.mean(axis=0)"
   ]
  },
  {
   "cell_type": "code",
   "execution_count": 14,
   "id": "02191964",
   "metadata": {},
   "outputs": [
    {
     "name": "stdout",
     "output_type": "stream",
     "text": [
      "         CRIM         ZN     INDUS     CHAS       NOX        RM        AGE  \\\n",
      "0   -3.607204   6.636364 -8.826779 -0.06917 -0.016695  0.290366  -3.374901   \n",
      "1   -3.586214 -11.363636 -4.066779 -0.06917 -0.085695  0.136366  10.325099   \n",
      "2   -3.586234 -11.363636 -4.066779 -0.06917 -0.085695  0.900366  -7.474901   \n",
      "3   -3.581154 -11.363636 -8.956779 -0.06917 -0.096695  0.713366 -22.774901   \n",
      "4   -3.544474 -11.363636 -8.956779 -0.06917 -0.096695  0.862366 -14.374901   \n",
      "..        ...        ...       ...      ...       ...       ...        ...   \n",
      "501 -3.550894 -11.363636  0.793221 -0.06917  0.018305  0.308366   0.525099   \n",
      "502 -3.568254 -11.363636  0.793221 -0.06917  0.018305 -0.164634   8.125099   \n",
      "503 -3.552764 -11.363636  0.793221 -0.06917  0.018305  0.691366  22.425099   \n",
      "504 -3.503934 -11.363636  0.793221 -0.06917  0.018305  0.509366  20.725099   \n",
      "505 -3.566114 -11.363636  0.793221 -0.06917  0.018305 -0.254634  12.225099   \n",
      "\n",
      "          DIS       RAD         TAX   PTRATIO          B     LSTAT  \n",
      "0    0.294957 -8.549407 -112.237154 -3.155534  40.225968 -7.673063  \n",
      "1    1.172057 -7.549407 -166.237154 -0.655534  40.225968 -3.513063  \n",
      "2    1.172057 -7.549407 -166.237154 -0.655534  36.155968 -8.623063  \n",
      "3    2.267157 -6.549407 -186.237154  0.244466  37.955968 -9.713063  \n",
      "4    2.267157 -6.549407 -186.237154  0.244466  40.225968 -7.323063  \n",
      "..        ...       ...         ...       ...        ...       ...  \n",
      "501 -1.316443 -8.549407 -135.237154  2.544466  35.315968 -2.983063  \n",
      "502 -1.507543 -8.549407 -135.237154  2.544466  40.225968 -3.573063  \n",
      "503 -1.627543 -8.549407 -135.237154  2.544466  40.225968 -7.013063  \n",
      "504 -1.406143 -8.549407 -135.237154  2.544466  36.775968 -6.173063  \n",
      "505 -1.290043 -8.549407 -135.237154  2.544466  40.225968 -4.773063  \n",
      "\n",
      "[506 rows x 13 columns]\n"
     ]
    }
   ],
   "source": [
    "mean_model = SimpleConverter()\n",
    "mean_model.fit(df_X)\n",
    "X_mean = mean_model.transform(df_X)\n",
    "print(X_mean)"
   ]
  },
  {
   "cell_type": "code",
   "execution_count": 15,
   "id": "9251fe6c",
   "metadata": {},
   "outputs": [
    {
     "data": {
      "text/html": [
       "<div>\n",
       "<style scoped>\n",
       "    .dataframe tbody tr th:only-of-type {\n",
       "        vertical-align: middle;\n",
       "    }\n",
       "\n",
       "    .dataframe tbody tr th {\n",
       "        vertical-align: top;\n",
       "    }\n",
       "\n",
       "    .dataframe thead th {\n",
       "        text-align: right;\n",
       "    }\n",
       "</style>\n",
       "<table border=\"1\" class=\"dataframe\">\n",
       "  <thead>\n",
       "    <tr style=\"text-align: right;\">\n",
       "      <th></th>\n",
       "      <th>CRIM</th>\n",
       "      <th>ZN</th>\n",
       "      <th>INDUS</th>\n",
       "      <th>CHAS</th>\n",
       "      <th>NOX</th>\n",
       "      <th>RM</th>\n",
       "      <th>AGE</th>\n",
       "      <th>DIS</th>\n",
       "      <th>RAD</th>\n",
       "      <th>TAX</th>\n",
       "      <th>PTRATIO</th>\n",
       "      <th>B</th>\n",
       "      <th>LSTAT</th>\n",
       "    </tr>\n",
       "  </thead>\n",
       "  <tbody>\n",
       "    <tr>\n",
       "      <th>0</th>\n",
       "      <td>-3.607204</td>\n",
       "      <td>6.636364</td>\n",
       "      <td>-8.826779</td>\n",
       "      <td>-0.06917</td>\n",
       "      <td>-0.016695</td>\n",
       "      <td>0.290366</td>\n",
       "      <td>-3.374901</td>\n",
       "      <td>0.294957</td>\n",
       "      <td>-8.549407</td>\n",
       "      <td>-112.237154</td>\n",
       "      <td>-3.155534</td>\n",
       "      <td>40.225968</td>\n",
       "      <td>-7.673063</td>\n",
       "    </tr>\n",
       "    <tr>\n",
       "      <th>1</th>\n",
       "      <td>-3.586214</td>\n",
       "      <td>-11.363636</td>\n",
       "      <td>-4.066779</td>\n",
       "      <td>-0.06917</td>\n",
       "      <td>-0.085695</td>\n",
       "      <td>0.136366</td>\n",
       "      <td>10.325099</td>\n",
       "      <td>1.172057</td>\n",
       "      <td>-7.549407</td>\n",
       "      <td>-166.237154</td>\n",
       "      <td>-0.655534</td>\n",
       "      <td>40.225968</td>\n",
       "      <td>-3.513063</td>\n",
       "    </tr>\n",
       "    <tr>\n",
       "      <th>2</th>\n",
       "      <td>-3.586234</td>\n",
       "      <td>-11.363636</td>\n",
       "      <td>-4.066779</td>\n",
       "      <td>-0.06917</td>\n",
       "      <td>-0.085695</td>\n",
       "      <td>0.900366</td>\n",
       "      <td>-7.474901</td>\n",
       "      <td>1.172057</td>\n",
       "      <td>-7.549407</td>\n",
       "      <td>-166.237154</td>\n",
       "      <td>-0.655534</td>\n",
       "      <td>36.155968</td>\n",
       "      <td>-8.623063</td>\n",
       "    </tr>\n",
       "    <tr>\n",
       "      <th>3</th>\n",
       "      <td>-3.581154</td>\n",
       "      <td>-11.363636</td>\n",
       "      <td>-8.956779</td>\n",
       "      <td>-0.06917</td>\n",
       "      <td>-0.096695</td>\n",
       "      <td>0.713366</td>\n",
       "      <td>-22.774901</td>\n",
       "      <td>2.267157</td>\n",
       "      <td>-6.549407</td>\n",
       "      <td>-186.237154</td>\n",
       "      <td>0.244466</td>\n",
       "      <td>37.955968</td>\n",
       "      <td>-9.713063</td>\n",
       "    </tr>\n",
       "    <tr>\n",
       "      <th>4</th>\n",
       "      <td>-3.544474</td>\n",
       "      <td>-11.363636</td>\n",
       "      <td>-8.956779</td>\n",
       "      <td>-0.06917</td>\n",
       "      <td>-0.096695</td>\n",
       "      <td>0.862366</td>\n",
       "      <td>-14.374901</td>\n",
       "      <td>2.267157</td>\n",
       "      <td>-6.549407</td>\n",
       "      <td>-186.237154</td>\n",
       "      <td>0.244466</td>\n",
       "      <td>40.225968</td>\n",
       "      <td>-7.323063</td>\n",
       "    </tr>\n",
       "    <tr>\n",
       "      <th>...</th>\n",
       "      <td>...</td>\n",
       "      <td>...</td>\n",
       "      <td>...</td>\n",
       "      <td>...</td>\n",
       "      <td>...</td>\n",
       "      <td>...</td>\n",
       "      <td>...</td>\n",
       "      <td>...</td>\n",
       "      <td>...</td>\n",
       "      <td>...</td>\n",
       "      <td>...</td>\n",
       "      <td>...</td>\n",
       "      <td>...</td>\n",
       "    </tr>\n",
       "    <tr>\n",
       "      <th>501</th>\n",
       "      <td>-3.550894</td>\n",
       "      <td>-11.363636</td>\n",
       "      <td>0.793221</td>\n",
       "      <td>-0.06917</td>\n",
       "      <td>0.018305</td>\n",
       "      <td>0.308366</td>\n",
       "      <td>0.525099</td>\n",
       "      <td>-1.316443</td>\n",
       "      <td>-8.549407</td>\n",
       "      <td>-135.237154</td>\n",
       "      <td>2.544466</td>\n",
       "      <td>35.315968</td>\n",
       "      <td>-2.983063</td>\n",
       "    </tr>\n",
       "    <tr>\n",
       "      <th>502</th>\n",
       "      <td>-3.568254</td>\n",
       "      <td>-11.363636</td>\n",
       "      <td>0.793221</td>\n",
       "      <td>-0.06917</td>\n",
       "      <td>0.018305</td>\n",
       "      <td>-0.164634</td>\n",
       "      <td>8.125099</td>\n",
       "      <td>-1.507543</td>\n",
       "      <td>-8.549407</td>\n",
       "      <td>-135.237154</td>\n",
       "      <td>2.544466</td>\n",
       "      <td>40.225968</td>\n",
       "      <td>-3.573063</td>\n",
       "    </tr>\n",
       "    <tr>\n",
       "      <th>503</th>\n",
       "      <td>-3.552764</td>\n",
       "      <td>-11.363636</td>\n",
       "      <td>0.793221</td>\n",
       "      <td>-0.06917</td>\n",
       "      <td>0.018305</td>\n",
       "      <td>0.691366</td>\n",
       "      <td>22.425099</td>\n",
       "      <td>-1.627543</td>\n",
       "      <td>-8.549407</td>\n",
       "      <td>-135.237154</td>\n",
       "      <td>2.544466</td>\n",
       "      <td>40.225968</td>\n",
       "      <td>-7.013063</td>\n",
       "    </tr>\n",
       "    <tr>\n",
       "      <th>504</th>\n",
       "      <td>-3.503934</td>\n",
       "      <td>-11.363636</td>\n",
       "      <td>0.793221</td>\n",
       "      <td>-0.06917</td>\n",
       "      <td>0.018305</td>\n",
       "      <td>0.509366</td>\n",
       "      <td>20.725099</td>\n",
       "      <td>-1.406143</td>\n",
       "      <td>-8.549407</td>\n",
       "      <td>-135.237154</td>\n",
       "      <td>2.544466</td>\n",
       "      <td>36.775968</td>\n",
       "      <td>-6.173063</td>\n",
       "    </tr>\n",
       "    <tr>\n",
       "      <th>505</th>\n",
       "      <td>-3.566114</td>\n",
       "      <td>-11.363636</td>\n",
       "      <td>0.793221</td>\n",
       "      <td>-0.06917</td>\n",
       "      <td>0.018305</td>\n",
       "      <td>-0.254634</td>\n",
       "      <td>12.225099</td>\n",
       "      <td>-1.290043</td>\n",
       "      <td>-8.549407</td>\n",
       "      <td>-135.237154</td>\n",
       "      <td>2.544466</td>\n",
       "      <td>40.225968</td>\n",
       "      <td>-4.773063</td>\n",
       "    </tr>\n",
       "  </tbody>\n",
       "</table>\n",
       "<p>506 rows × 13 columns</p>\n",
       "</div>"
      ],
      "text/plain": [
       "         CRIM         ZN     INDUS     CHAS       NOX        RM        AGE  \\\n",
       "0   -3.607204   6.636364 -8.826779 -0.06917 -0.016695  0.290366  -3.374901   \n",
       "1   -3.586214 -11.363636 -4.066779 -0.06917 -0.085695  0.136366  10.325099   \n",
       "2   -3.586234 -11.363636 -4.066779 -0.06917 -0.085695  0.900366  -7.474901   \n",
       "3   -3.581154 -11.363636 -8.956779 -0.06917 -0.096695  0.713366 -22.774901   \n",
       "4   -3.544474 -11.363636 -8.956779 -0.06917 -0.096695  0.862366 -14.374901   \n",
       "..        ...        ...       ...      ...       ...       ...        ...   \n",
       "501 -3.550894 -11.363636  0.793221 -0.06917  0.018305  0.308366   0.525099   \n",
       "502 -3.568254 -11.363636  0.793221 -0.06917  0.018305 -0.164634   8.125099   \n",
       "503 -3.552764 -11.363636  0.793221 -0.06917  0.018305  0.691366  22.425099   \n",
       "504 -3.503934 -11.363636  0.793221 -0.06917  0.018305  0.509366  20.725099   \n",
       "505 -3.566114 -11.363636  0.793221 -0.06917  0.018305 -0.254634  12.225099   \n",
       "\n",
       "          DIS       RAD         TAX   PTRATIO          B     LSTAT  \n",
       "0    0.294957 -8.549407 -112.237154 -3.155534  40.225968 -7.673063  \n",
       "1    1.172057 -7.549407 -166.237154 -0.655534  40.225968 -3.513063  \n",
       "2    1.172057 -7.549407 -166.237154 -0.655534  36.155968 -8.623063  \n",
       "3    2.267157 -6.549407 -186.237154  0.244466  37.955968 -9.713063  \n",
       "4    2.267157 -6.549407 -186.237154  0.244466  40.225968 -7.323063  \n",
       "..        ...       ...         ...       ...        ...       ...  \n",
       "501 -1.316443 -8.549407 -135.237154  2.544466  35.315968 -2.983063  \n",
       "502 -1.507543 -8.549407 -135.237154  2.544466  40.225968 -3.573063  \n",
       "503 -1.627543 -8.549407 -135.237154  2.544466  40.225968 -7.013063  \n",
       "504 -1.406143 -8.549407 -135.237154  2.544466  36.775968 -6.173063  \n",
       "505 -1.290043 -8.549407 -135.237154  2.544466  40.225968 -4.773063  \n",
       "\n",
       "[506 rows x 13 columns]"
      ]
     },
     "execution_count": 15,
     "metadata": {},
     "output_type": "execute_result"
    }
   ],
   "source": [
    "X_mean = mean_model.fit_transform(df_X)\n",
    "X_mean"
   ]
  },
  {
   "cell_type": "markdown",
   "id": "52448d8d",
   "metadata": {},
   "source": [
    "# Adstockの変換Class"
   ]
  },
  {
   "cell_type": "markdown",
   "id": "45e24b53",
   "metadata": {},
   "source": [
    "## 定式: $ y_t = x_t + \\alpha*y_{t-1}$\n",
    "## $\\alpha$は繰り延べ効果をコントロールするハイパーパラメータ"
   ]
  },
  {
   "cell_type": "code",
   "execution_count": 16,
   "id": "5e5ca78d",
   "metadata": {},
   "outputs": [],
   "source": [
    "def adstock_geometric(x:float, alpha:float):\n",
    "    x_decay = np.zeros_like(x)\n",
    "    x_decay[0] = x[0]\n",
    "    \n",
    "    for i in range(1, len(x_decay)):\n",
    "        x_decay[i] = x[i] + alpha*x_decay[i-1]\n",
    "        \n",
    "    return x_decay"
   ]
  },
  {
   "cell_type": "code",
   "execution_count": 17,
   "id": "9544b153",
   "metadata": {},
   "outputs": [
    {
     "data": {
      "text/plain": [
       "array([1.    , 0.5   , 0.25  , 0.125 , 0.0625])"
      ]
     },
     "execution_count": 17,
     "metadata": {},
     "output_type": "execute_result"
    }
   ],
   "source": [
    "x = np.array([1.0, 0.0, 0.0, 0.0, 0.0])\n",
    "adstock_geometric(x, 0.5)"
   ]
  },
  {
   "cell_type": "code",
   "execution_count": 18,
   "id": "1d1339ac",
   "metadata": {},
   "outputs": [
    {
     "data": {
      "text/plain": [
       "<BarContainer object of 5 artists>"
      ]
     },
     "execution_count": 18,
     "metadata": {},
     "output_type": "execute_result"
    },
    {
     "data": {
      "image/png": "[encoded data removed]",
      "text/plain": [
       "<Figure size 432x288 with 1 Axes>"
      ]
     },
     "metadata": {
      "needs_background": "light"
     },
     "output_type": "display_data"
    }
   ],
   "source": [
    "plt.bar(range(len(x)), adstock_geometric(x, 0.5))"
   ]
  },
  {
   "cell_type": "code",
   "execution_count": 19,
   "id": "aad87ed9",
   "metadata": {},
   "outputs": [
    {
     "data": {
      "text/plain": [
       "<BarContainer object of 5 artists>"
      ]
     },
     "execution_count": 19,
     "metadata": {},
     "output_type": "execute_result"
    },
    {
     "data": {
      "image/png": "[encoded data removed]",
      "text/plain": [
       "<Figure size 432x288 with 1 Axes>"
      ]
     },
     "metadata": {
      "needs_background": "light"
     },
     "output_type": "display_data"
    }
   ],
   "source": [
    "x = np.array([1.0, 1.0, 0.0, 0.0, 0.0])\n",
    "plt.bar(range(len(x)), adstock_geometric(x, 0.5))"
   ]
  },
  {
   "cell_type": "code",
   "execution_count": 20,
   "id": "ca8467bd",
   "metadata": {},
   "outputs": [
    {
     "name": "stdout",
     "output_type": "stream",
     "text": [
      "[1.     1.4    0.56   0.224  0.0896]\n"
     ]
    }
   ],
   "source": [
    "print(adstock_geometric(x, 0.4))"
   ]
  },
  {
   "cell_type": "code",
   "execution_count": 21,
   "id": "2cc4bb24",
   "metadata": {},
   "outputs": [],
   "source": [
    "class AdstockGeometric(BaseEstimator, TransformerMixin):\n",
    "    def __init__(self, alpha=0.5):\n",
    "        self.alpha = alpha\n",
    "        \n",
    "    def fit(self, X, y=None):\n",
    "        return self\n",
    "    \n",
    "    \n",
    "    def transform(self, X):\n",
    "        x_decay = np.zeros_like(X)\n",
    "        x_decay[0] = X[0]\n",
    "\n",
    "        for i in range(1, len(x_decay)):\n",
    "            x_decay[i] = X[i] + self.alpha*x_decay[i-1]\n",
    "\n",
    "        return x_decay      "
   ]
  },
  {
   "cell_type": "code",
   "execution_count": 22,
   "id": "16e776af",
   "metadata": {},
   "outputs": [
    {
     "data": {
      "text/plain": [
       "array([1.    , 1.4   , 0.56  , 0.224 , 0.0896])"
      ]
     },
     "execution_count": 22,
     "metadata": {},
     "output_type": "execute_result"
    }
   ],
   "source": [
    "AdstockGeometric(0.4).fit_transform(x)"
   ]
  },
  {
   "cell_type": "code",
   "execution_count": 23,
   "id": "afe9e2e7",
   "metadata": {},
   "outputs": [],
   "source": [
    "mmm_data = pd.read_csv(\"data_raw_Robyn.csv\")"
   ]
  },
  {
   "cell_type": "code",
   "execution_count": 24,
   "id": "45c9ba1a",
   "metadata": {},
   "outputs": [
    {
     "data": {
      "text/html": [
       "<div>\n",
       "<style scoped>\n",
       "    .dataframe tbody tr th:only-of-type {\n",
       "        vertical-align: middle;\n",
       "    }\n",
       "\n",
       "    .dataframe tbody tr th {\n",
       "        vertical-align: top;\n",
       "    }\n",
       "\n",
       "    .dataframe thead th {\n",
       "        text-align: right;\n",
       "    }\n",
       "</style>\n",
       "<table border=\"1\" class=\"dataframe\">\n",
       "  <thead>\n",
       "    <tr style=\"text-align: right;\">\n",
       "      <th></th>\n",
       "      <th>DATE</th>\n",
       "      <th>revenue</th>\n",
       "      <th>tv_S</th>\n",
       "      <th>ooh_S</th>\n",
       "      <th>print_S</th>\n",
       "      <th>facebook_I</th>\n",
       "      <th>search_clicks_P</th>\n",
       "      <th>search_S</th>\n",
       "      <th>competitor_sales_B</th>\n",
       "      <th>facebook_S</th>\n",
       "      <th>events</th>\n",
       "      <th>newsletter</th>\n",
       "    </tr>\n",
       "  </thead>\n",
       "  <tbody>\n",
       "    <tr>\n",
       "      <th>0</th>\n",
       "      <td>2015-11-23</td>\n",
       "      <td>2.754372e+06</td>\n",
       "      <td>167687.6</td>\n",
       "      <td>0</td>\n",
       "      <td>95463.666667</td>\n",
       "      <td>7.290385e+07</td>\n",
       "      <td>0.000000</td>\n",
       "      <td>0</td>\n",
       "      <td>8125009</td>\n",
       "      <td>228213.987444</td>\n",
       "      <td>na</td>\n",
       "      <td>19401.653846</td>\n",
       "    </tr>\n",
       "    <tr>\n",
       "      <th>1</th>\n",
       "      <td>2015-11-30</td>\n",
       "      <td>2.584277e+06</td>\n",
       "      <td>214600.9</td>\n",
       "      <td>0</td>\n",
       "      <td>0.000000</td>\n",
       "      <td>1.658110e+07</td>\n",
       "      <td>29511.715457</td>\n",
       "      <td>31000</td>\n",
       "      <td>7901549</td>\n",
       "      <td>34258.573511</td>\n",
       "      <td>na</td>\n",
       "      <td>14791.000000</td>\n",
       "    </tr>\n",
       "    <tr>\n",
       "      <th>2</th>\n",
       "      <td>2015-12-07</td>\n",
       "      <td>2.547387e+06</td>\n",
       "      <td>0.0</td>\n",
       "      <td>248022</td>\n",
       "      <td>3404.000000</td>\n",
       "      <td>4.995477e+07</td>\n",
       "      <td>36132.358958</td>\n",
       "      <td>28400</td>\n",
       "      <td>8300197</td>\n",
       "      <td>127691.261335</td>\n",
       "      <td>na</td>\n",
       "      <td>14544.000000</td>\n",
       "    </tr>\n",
       "    <tr>\n",
       "      <th>3</th>\n",
       "      <td>2015-12-14</td>\n",
       "      <td>2.875220e+06</td>\n",
       "      <td>625877.3</td>\n",
       "      <td>0</td>\n",
       "      <td>132600.000000</td>\n",
       "      <td>3.164930e+07</td>\n",
       "      <td>36804.210958</td>\n",
       "      <td>31900</td>\n",
       "      <td>8122883</td>\n",
       "      <td>84014.720306</td>\n",
       "      <td>na</td>\n",
       "      <td>2800.000000</td>\n",
       "    </tr>\n",
       "    <tr>\n",
       "      <th>4</th>\n",
       "      <td>2015-12-21</td>\n",
       "      <td>2.215953e+06</td>\n",
       "      <td>0.0</td>\n",
       "      <td>520005</td>\n",
       "      <td>0.000000</td>\n",
       "      <td>8.802269e+06</td>\n",
       "      <td>28401.744069</td>\n",
       "      <td>27100</td>\n",
       "      <td>7105985</td>\n",
       "      <td>20687.478156</td>\n",
       "      <td>na</td>\n",
       "      <td>15478.000000</td>\n",
       "    </tr>\n",
       "  </tbody>\n",
       "</table>\n",
       "</div>"
      ],
      "text/plain": [
       "         DATE       revenue      tv_S   ooh_S        print_S    facebook_I  \\\n",
       "0  2015-11-23  2.754372e+06  167687.6       0   95463.666667  7.290385e+07   \n",
       "1  2015-11-30  2.584277e+06  214600.9       0       0.000000  1.658110e+07   \n",
       "2  2015-12-07  2.547387e+06       0.0  248022    3404.000000  4.995477e+07   \n",
       "3  2015-12-14  2.875220e+06  625877.3       0  132600.000000  3.164930e+07   \n",
       "4  2015-12-21  2.215953e+06       0.0  520005       0.000000  8.802269e+06   \n",
       "\n",
       "   search_clicks_P  search_S  competitor_sales_B     facebook_S events  \\\n",
       "0         0.000000         0             8125009  228213.987444     na   \n",
       "1     29511.715457     31000             7901549   34258.573511     na   \n",
       "2     36132.358958     28400             8300197  127691.261335     na   \n",
       "3     36804.210958     31900             8122883   84014.720306     na   \n",
       "4     28401.744069     27100             7105985   20687.478156     na   \n",
       "\n",
       "     newsletter  \n",
       "0  19401.653846  \n",
       "1  14791.000000  \n",
       "2  14544.000000  \n",
       "3   2800.000000  \n",
       "4  15478.000000  "
      ]
     },
     "execution_count": 24,
     "metadata": {},
     "output_type": "execute_result"
    }
   ],
   "source": [
    "mmm_data.head()"
   ]
  },
  {
   "cell_type": "code",
   "execution_count": 25,
   "id": "ed3750de",
   "metadata": {},
   "outputs": [
    {
     "data": {
      "text/plain": [
       "(208, 12)"
      ]
     },
     "execution_count": 25,
     "metadata": {},
     "output_type": "execute_result"
    }
   ],
   "source": [
    "mmm_data.shape"
   ]
  },
  {
   "cell_type": "code",
   "execution_count": 26,
   "id": "1c8c080f",
   "metadata": {},
   "outputs": [
    {
     "name": "stdout",
     "output_type": "stream",
     "text": [
      "------\n",
      "tv_S\n",
      "[1.67687600e+05 2.98444700e+05 1.49222350e+05 7.00488475e+05\n",
      " 3.50244238e+05 4.24311919e+05 2.17308859e+05 1.30796130e+05\n",
      " 6.53980648e+04 3.26990324e+04 1.40188216e+05 7.00941081e+04\n",
      " 5.32120354e+05 2.66060177e+05 4.44702289e+05 2.22351144e+05\n",
      " 2.59468872e+05 1.29734436e+05 6.48672180e+04 3.24336090e+04\n",
      " 1.62168045e+04 9.15589023e+04 4.57794511e+04 2.28897256e+04\n",
      " 1.14448628e+04 5.72243139e+03 2.86121570e+03 1.43060785e+03\n",
      " 7.15303924e+02 3.57651962e+02 1.53721726e+05 7.68608630e+04\n",
      " 1.14338031e+05 5.71690157e+04 4.28376079e+04 2.14188039e+04\n",
      " 2.22061302e+05 1.11030651e+05 2.70245425e+05 1.35122713e+05\n",
      " 2.47495056e+05 2.83211328e+05 1.41605664e+05 7.08028320e+04\n",
      " 3.54014160e+04 1.10172551e+06 5.50862754e+05 8.85851477e+05\n",
      " 4.42925739e+05 9.26423769e+05 4.63211885e+05 6.24038842e+05\n",
      " 3.64197321e+05 1.82098661e+05 1.97957330e+05 9.89786651e+04\n",
      " 4.94893326e+04 8.32652266e+05 7.24233733e+05 3.62116867e+05\n",
      " 2.25408133e+05 1.12704067e+05 3.58189233e+05 1.79094617e+05\n",
      " 8.95473083e+04 4.47736542e+04 2.23868271e+04 1.11934135e+04\n",
      " 8.33033068e+04 4.16516534e+04 2.08258267e+04 1.04129133e+04\n",
      " 5.20645667e+03 5.86211283e+04 2.93105642e+04 2.89327182e+05\n",
      " 1.44663591e+05 7.23317955e+04 3.61658978e+04 1.80829489e+04\n",
      " 7.74824744e+04 3.87412372e+04 2.91318219e+05 1.45659109e+05\n",
      " 1.07035255e+05 5.35176273e+04 1.00737314e+05 5.03686568e+04\n",
      " 1.10571228e+05 5.52856142e+04 2.82995707e+05 1.41497854e+05\n",
      " 9.54917327e+05 4.77458663e+05 6.05248832e+05 3.02624416e+05\n",
      " 7.78791008e+05 1.22417890e+06 9.46872852e+05 4.73436426e+05\n",
      " 5.69422013e+05 3.19550206e+05 3.18392703e+05 1.59196352e+05\n",
      " 4.93803176e+05 2.46901588e+05 3.40377394e+05 1.70188697e+05\n",
      " 5.63212248e+05 9.59724024e+05 4.79862012e+05 2.39931006e+05\n",
      " 4.13134803e+05 2.06567402e+05 2.92052701e+05 1.46026350e+05\n",
      " 1.41752275e+05 7.08761376e+04 1.28108869e+05 6.40544344e+04\n",
      " 4.30429117e+05 2.15214559e+05 2.55686079e+05 1.27843040e+05\n",
      " 6.39215198e+04 3.19607599e+04 1.59803800e+04 7.99018998e+03\n",
      " 3.99509499e+03 1.99754749e+03 8.10207375e+03 4.05103687e+03\n",
      " 2.02551844e+03 6.33728592e+04 3.16864296e+04 1.58432148e+04\n",
      " 1.17586207e+05 5.87931037e+04 9.58149519e+04 1.20874176e+05\n",
      " 6.04370880e+04 1.28029744e+05 6.40148720e+04 4.93730836e+05\n",
      " 2.46865418e+05 2.10893309e+05 1.05446654e+05 5.27233272e+04\n",
      " 3.30211636e+04 1.19178638e+06 5.95893191e+05 6.31617995e+05\n",
      " 3.15808998e+05 3.47579299e+05 1.73789649e+05 5.17026725e+05\n",
      " 2.58513362e+05 5.30695681e+05 2.65347841e+05 1.32673920e+05\n",
      " 6.63369601e+04 1.21851778e+06 9.94608190e+05 4.97304095e+05\n",
      " 3.35531848e+05 1.67765924e+05 3.21455962e+05 1.60727981e+05\n",
      " 1.75785290e+05 8.78926452e+04 1.79853523e+05 8.99267613e+04\n",
      " 8.61407807e+04 4.30703903e+04 4.76605952e+04 2.38302976e+04\n",
      " 3.71088749e+05 1.85544374e+05 1.29360187e+05 6.46800936e+04\n",
      " 6.00592468e+04 3.00296234e+04 2.34317712e+05 1.17158856e+05\n",
      " 5.85794279e+04 2.92897140e+04 1.46448570e+04 5.35260285e+04\n",
      " 2.67630142e+04 5.29092071e+04 2.64546036e+04 1.03598602e+05\n",
      " 5.17993009e+04 1.23474450e+05 6.17372252e+04 3.08686126e+04\n",
      " 1.54343063e+04 9.41525315e+03 3.74216127e+05 1.87108063e+05\n",
      " 3.02181132e+05 1.51090566e+05 2.20024883e+05 1.10012441e+05\n",
      " 2.09923821e+05 1.26944410e+05 8.59252052e+04 4.29626026e+04]\n",
      "------\n",
      "ooh_S\n",
      "[      0       0  248022  124011  582010  291005  570665  285332  142666\n",
      "   71333  115311   57655   28827   14413    7206    3603   84290   42145\n",
      "  144988   72494  160773   80386   40193   20096  103719   51859  259259\n",
      "  129629   64814   32407  248531  124265   62132   31066  614864  307432\n",
      "  461623  230811  115405   57702  328187  328737  464585  293594  451251\n",
      "  454131  227065  169399  382660  191330  363044  181522  362670  181335\n",
      "  538943  269471  762710  381355 1041357  520678  260339  130169   65084\n",
      "   32542  255753  127876   63938   31969   15984    7992   49889   24944\n",
      "  950650  475325  792952  396476  772637  386318  270046  135023  147174\n",
      "   73587   36793  315831  157915   78957  242318  121159  445779  419513\n",
      "  209756  104878   52439   26219  294668  147334  344724  281793  754464\n",
      "  377232  275037  137518  665992  332996  363945  181972  255690  127845\n",
      "  236125  118062   59031   36916   18458  115750   57875   28937  116066\n",
      "   58033  134337   67168  203467  101733  204457  102228   72222   36111\n",
      "  314968  157484  190631   95315   96948   48474   24237   12118   38802\n",
      "   19401  324890  162445  192818   96409   48204  197679   98839  248979\n",
      "  124489  190144   95072  134012  121981  110166   55083  145867   72933\n",
      "   36466  290843  145421  160935   80467  140656   70328   63971   31985\n",
      "   15992    8614    4307   53294   26647   13323    6661    3330   59571\n",
      "   29785   14892    7446   14533    7266    7490    3745    1872     936\n",
      "     468     234   10934   12344    6172    3086    1543     771     385\n",
      "     192  124718   62359  103240   51620   89460   44730   94594   47297\n",
      "   31607   37294   18647   68302   34151   77508   38754   33471   16735\n",
      "    8367]\n",
      "------\n",
      "print_S\n",
      "[9.54636667e+04 4.77318333e+04 2.72699167e+04 1.46234958e+05\n",
      " 7.31174792e+04 2.75976073e+05 1.37988036e+05 2.45853685e+05\n",
      " 1.22926842e+05 1.45792755e+05 7.28963773e+04 7.21748553e+04\n",
      " 5.44504277e+04 2.72252138e+04 1.36126069e+04 1.30601970e+05\n",
      " 6.53009851e+04 3.26504925e+04 1.18170913e+05 5.90854565e+04\n",
      " 2.95427282e+04 1.47713641e+04 7.38568206e+03 9.75821744e+04\n",
      " 4.87910872e+04 2.43955436e+04 1.21977718e+04 6.09888590e+03\n",
      " 3.04944295e+03 1.52472147e+03 7.62360737e+02 3.81180369e+02\n",
      " 3.89535902e+04 1.94767951e+04 4.55933975e+04 2.27966988e+04\n",
      " 1.13983494e+04 1.17575080e+04 5.87875401e+03 1.07787377e+05\n",
      " 5.38936885e+04 5.00571776e+04 2.50285888e+04 2.04038961e+05\n",
      " 1.02019481e+05 1.24608407e+05 1.42732537e+05 7.13662684e+04\n",
      " 1.05890468e+05 5.29452338e+04 1.13051284e+05 5.65256418e+04\n",
      " 8.29608209e+04 7.25524104e+04 3.62762052e+04 1.81381026e+04\n",
      " 9.06905131e+03 4.53452565e+03 2.12253263e+05 1.06126631e+05\n",
      " 6.45806490e+04 1.13147658e+05 5.65738289e+04 2.82869145e+04\n",
      " 1.41434572e+04 8.72543953e+04 4.36271976e+04 1.27021932e+05\n",
      " 6.35109661e+04 1.80659150e+05 9.03295749e+04 4.51647874e+04\n",
      " 2.25823937e+04 1.12911969e+04 5.64559843e+03 2.82279921e+03\n",
      " 1.41139961e+03 7.05699804e+02 3.52849902e+02 5.39867583e+04\n",
      " 2.69933791e+04 1.34966896e+04 6.74834479e+03 3.83198391e+04\n",
      " 9.09579195e+04 4.54789598e+04 2.09920813e+05 1.04960407e+05\n",
      " 6.33735366e+04 1.02691102e+05 5.13455508e+04 1.10784109e+05\n",
      " 5.53920544e+04 2.76960272e+04 4.84256803e+04 2.42128401e+04\n",
      " 1.21064201e+04 6.05321003e+03 1.41813605e+05 7.09068025e+04\n",
      " 3.54534013e+04 1.77267006e+04 1.81662684e+05 9.08313418e+04\n",
      " 5.55113376e+04 9.97690021e+04 4.98845011e+04 2.49422505e+04\n",
      " 1.24711253e+04 1.18993896e+05 9.91846146e+04 4.95923073e+04\n",
      " 1.40901154e+05 2.15556243e+05 1.07778122e+05 8.94900609e+04\n",
      " 4.47450304e+04 6.97081819e+04 1.09875091e+05 5.49375455e+04\n",
      " 1.81119773e+05 9.05598864e+04 6.76986099e+04 3.38493049e+04\n",
      " 1.69246525e+04 8.46232623e+03 4.23116312e+03 2.11558156e+03\n",
      " 1.05779078e+03 5.15562287e+04 2.57781144e+04 4.44297238e+04\n",
      " 2.22148619e+04 5.17924310e+04 2.58962155e+04 9.08291077e+04\n",
      " 4.54145539e+04 1.08866610e+05 5.44333051e+04 6.60116526e+04\n",
      " 3.30058263e+04 7.05039131e+04 3.52519566e+04 1.76259783e+04\n",
      " 8.81298914e+03 1.01998279e+04 9.11991395e+03 7.71979570e+04\n",
      " 3.85989785e+04 3.95378226e+04 3.91925780e+04 2.73896223e+04\n",
      " 1.36948112e+04 2.28084056e+04 2.23205361e+04 1.11602681e+04\n",
      " 5.58013403e+03 1.16261067e+05 5.81305335e+04 7.61852668e+04\n",
      " 3.80926334e+04 7.49359834e+04 3.74679917e+04 2.55109958e+04\n",
      " 1.82688313e+04 3.10360823e+04 1.55180411e+04 3.97993539e+04\n",
      " 2.88390103e+04 1.81821718e+04 1.39347526e+04 6.96737629e+03\n",
      " 3.48368814e+03 1.74184407e+03 8.70922036e+02 4.35461018e+02\n",
      " 2.17730509e+02 2.25805319e+04 1.12902660e+04 9.91394663e+04\n",
      " 4.95697332e+04 4.07128666e+04 4.87781000e+04 2.43890500e+04\n",
      " 2.26338583e+04 1.13169292e+04 5.65846458e+03 2.82923229e+03\n",
      " 1.41461615e+03 7.07308073e+02 3.53654036e+02 1.76827018e+02\n",
      " 8.84135091e+01 4.42067545e+01 2.21033773e+01 2.41630517e+04\n",
      " 1.20815258e+04 1.09024430e+05 5.45122148e+04 1.36788441e+05\n",
      " 6.83942204e+04 1.81264110e+05 9.06320551e+04 1.99039694e+05\n",
      " 9.95198471e+04 6.72359236e+04 5.76692951e+04 2.88346476e+04]\n",
      "------\n",
      "facebook_S\n",
      "[2.28213987e+05 1.48365567e+05 2.01874045e+05 1.84951743e+05\n",
      " 1.13163350e+05 2.16691830e+05 2.17036282e+05 2.32412626e+05\n",
      " 2.24896680e+05 2.02529057e+05 1.01264529e+05 1.57563730e+05\n",
      " 1.22239797e+05 6.11198987e+04 1.03027841e+05 5.15139207e+04\n",
      " 2.57569604e+04 1.28784802e+04 2.00570692e+05 1.00910465e+05\n",
      " 5.04552327e+04 9.56882520e+04 4.78441260e+04 2.39220630e+04\n",
      " 1.19610315e+04 1.16198439e+05 5.80992195e+04 2.90496097e+04\n",
      " 1.45248049e+04 7.26240244e+03 8.02258767e+04 4.01129383e+04\n",
      " 2.00564692e+04 1.00282346e+04 1.11598566e+05 5.57992830e+04\n",
      " 1.80960584e+05 9.04802920e+04 7.55964767e+04 5.70534199e+04\n",
      " 2.85267100e+04 1.61472623e+04 8.07363116e+03 1.40165359e+05\n",
      " 7.00826793e+04 1.29456370e+05 1.73153186e+05 2.46309112e+05\n",
      " 2.99132244e+05 3.41788979e+05 3.79542829e+05 3.49731876e+05\n",
      " 3.75328754e+05 3.29620768e+05 2.14504420e+05 1.98163047e+05\n",
      " 1.29437854e+05 2.81515367e+05 2.69194011e+05 2.98786314e+05\n",
      " 3.29024733e+05 3.59586208e+05 3.08212421e+05 1.54106211e+05\n",
      " 3.24866762e+05 1.62433381e+05 4.98235268e+05 2.49117634e+05\n",
      " 1.24558817e+05 6.22794084e+04 1.09615757e+05 5.48078787e+04\n",
      " 2.74039393e+04 1.37019697e+04 6.85098484e+03 3.42549242e+03\n",
      " 1.71274621e+03 8.56373105e+02 1.19784230e+05 5.98921151e+04\n",
      " 1.22707653e+05 6.13538266e+04 3.16150286e+04 1.58075143e+04\n",
      " 2.07407172e+05 1.03703586e+05 5.18517930e+04 2.59258965e+04\n",
      " 1.29629483e+04 6.48147413e+03 3.24073706e+03 4.19007116e+04\n",
      " 4.79181654e+04 2.39590827e+04 3.06325459e+04 1.53162730e+04\n",
      " 8.35281583e+04 4.17640792e+04 1.81339212e+05 2.16380828e+05\n",
      " 2.50146805e+05 2.83274963e+05 2.48221930e+05 3.52114021e+05\n",
      " 2.74455935e+05 2.11141765e+05 1.55264918e+05 1.68543296e+05\n",
      " 1.14627979e+05 2.74110430e+05 2.65491543e+05 2.96935080e+05\n",
      " 1.48467540e+05 7.42337700e+04 3.71168850e+04 3.27478529e+04\n",
      " 1.63739265e+04 8.18696323e+03 4.09348162e+03 2.04674081e+03\n",
      " 1.02337040e+03 5.11685202e+02 2.55842601e+02 1.27921301e+02\n",
      " 6.39606503e+01 6.34297947e+04 3.17148973e+04 3.99875368e+05\n",
      " 1.99937684e+05 4.91182265e+05 2.45591133e+05 1.53066844e+05\n",
      " 7.65334219e+04 3.82667110e+04 1.91333555e+04 1.22274960e+05\n",
      " 6.11374799e+04 2.72962804e+05 1.36481402e+05 6.82407010e+04\n",
      " 3.41203505e+04 1.70601752e+04 1.42052599e+05 7.10262996e+04\n",
      " 1.70767345e+05 8.53836727e+04 4.26918364e+04 1.23432751e+05\n",
      " 6.17163757e+04 5.83635339e+04 8.96571519e+04 1.18106175e+05\n",
      " 5.90530875e+04 2.67480828e+05 1.33740414e+05 3.28724453e+05\n",
      " 1.64362226e+05 2.92288966e+05 1.46144483e+05 7.30722416e+04\n",
      " 3.65361208e+04 2.90308283e+05 1.45154141e+05 1.16851514e+05\n",
      " 5.84257570e+04 1.15057945e+05 5.75289723e+04 2.87644861e+04\n",
      " 7.76916021e+04 3.88458010e+04 1.94229005e+04 9.71145026e+03\n",
      " 4.85572513e+03 1.86050136e+05 9.30250680e+04 1.45772197e+05\n",
      " 7.28860987e+04 3.64430494e+04 6.61294425e+04 1.08458445e+05\n",
      " 5.42292225e+04 2.20766363e+05 1.10383182e+05 5.51915908e+04\n",
      " 2.75957954e+04 1.52837558e+04 7.64187792e+03 3.82093896e+03\n",
      " 1.91046948e+03 9.55234741e+02 4.77617370e+02 8.60430492e+04\n",
      " 4.30215246e+04 4.83522505e+05 2.41761252e+05 4.13228160e+05\n",
      " 2.06614080e+05 2.24445800e+05 1.12222900e+05 9.60379715e+04\n",
      " 4.80189857e+04 2.40094929e+04 4.27798557e+05 2.13899278e+05\n",
      " 2.40574215e+05 1.20287107e+05 6.01435537e+04 3.96262536e+05]\n"
     ]
    }
   ],
   "source": [
    "spend_cols = [\"tv_S\",\"ooh_S\",\"print_S\", \"facebook_S\"]\n",
    "\n",
    "for col in spend_cols:\n",
    "    print(\"------\")\n",
    "    print(col)\n",
    "    print(AdstockGeometric(alpha=0.5).fit_transform(mmm_data[col]))"
   ]
  },
  {
   "cell_type": "code",
   "execution_count": 16,
   "id": "4dc6cf0e",
   "metadata": {},
   "outputs": [],
   "source": [
    "def geoDecay(alpha, L):\n",
    "    '''\n",
    "    累積のAdstock割合(geometric decay)\n",
    "    weight_T = alpha ^ T-1  \n",
    "    '''\n",
    "    return alpha**(np.ones(L).cumsum()-1)\n",
    "\n",
    "def delayed_adstock(alpha, theta, L):\n",
    "    '''\n",
    "     累積のAdstock割合(dealyed adstock function)\n",
    "    \n",
    "    weight_T = thetaで引いたもので２乗 \n",
    "    '''\n",
    "    return alpha**((np.ones(L).cumsum()-1)-theta)**2\n",
    "\n",
    "def carryover(x, alpha, L, theta = None, func='geo'):\n",
    "    \n",
    "    transformed_x = []\n",
    "    if func=='geo':\n",
    "        weights = geoDecay(alpha, L)\n",
    "        plt.plot(weights)\n",
    "        \n",
    "    elif func=='delayed':\n",
    "        print(\"delayed\")\n",
    "        weights = delayed_adstock(alpha, theta, L)\n",
    "        plt.plot(weights)\n",
    "    \n",
    "    for t in range(x.shape[0]):\n",
    "        upper_window = t+1\n",
    "        lower_window = max(0,upper_window-L)\n",
    "        current_window_x = x[:upper_window]\n",
    "        t_in_window = len(current_window_x)\n",
    "        if t < L:\n",
    "            new_x = (current_window_x*np.flip(weights[:t_in_window], axis=0)).sum()\n",
    "            print(\"new_x\", new_x)\n",
    "            transformed_x.append(new_x/weights[:t_in_window].sum())\n",
    "            print(\"transform_x\", transformed_x)\n",
    "            print(\"weights\", weights[:t_in_window].sum())\n",
    "        elif t >= L:\n",
    "            current_window_x = x[upper_window-L:upper_window]\n",
    "            print(\"current_window\", current_window_x)\n",
    "            ext_weights = np.flip(weights, axis=0) \n",
    "            new_x = (current_window_x*ext_weights).sum()\n",
    "            transformed_x.append(new_x/ext_weights.sum())\n",
    "    return np.array(transformed_x)"
   ]
  },
  {
   "cell_type": "code",
   "execution_count": 17,
   "id": "51f97a99",
   "metadata": {},
   "outputs": [
    {
     "name": "stdout",
     "output_type": "stream",
     "text": [
      "12\n",
      "[2. 0. 0. 0. 0. 0. 0. 0. 0. 0. 0. 0.]\n"
     ]
    }
   ],
   "source": [
    "x = np.array([2.0, 0.0, 0.0, 0.0, 0.0,0.0,0.0,0.0,0.0,0.0,0.0,0.0])\n",
    "print(len(x))\n",
    "print(x)"
   ]
  },
  {
   "cell_type": "code",
   "execution_count": 18,
   "id": "75721409",
   "metadata": {},
   "outputs": [
    {
     "name": "stdout",
     "output_type": "stream",
     "text": [
      "new_x 2.0\n",
      "transform_x [2.0]\n",
      "weights 1.0\n",
      "new_x 1.6\n",
      "transform_x [2.0, 0.888888888888889]\n",
      "weights 1.8\n",
      "new_x 1.2800000000000002\n",
      "transform_x [2.0, 0.888888888888889, 0.5245901639344263]\n",
      "weights 2.4400000000000004\n",
      "new_x 1.0240000000000002\n",
      "transform_x [2.0, 0.888888888888889, 0.5245901639344263, 0.3468834688346884]\n",
      "weights 2.9520000000000004\n",
      "new_x 0.8192000000000002\n",
      "transform_x [2.0, 0.888888888888889, 0.5245901639344263, 0.3468834688346884, 0.24369347929557353]\n",
      "weights 3.3616000000000006\n",
      "new_x 0.6553600000000002\n",
      "transform_x [2.0, 0.888888888888889, 0.5245901639344263, 0.3468834688346884, 0.24369347929557353, 0.17763899731112848]\n",
      "weights 3.6892800000000006\n",
      "new_x 0.5242880000000002\n",
      "transform_x [2.0, 0.888888888888889, 0.5245901639344263, 0.3468834688346884, 0.24369347929557353, 0.17763899731112848, 0.13268330606890075]\n",
      "weights 3.9514240000000007\n",
      "new_x 0.41943040000000015\n",
      "transform_x [2.0, 0.888888888888889, 0.5245901639344263, 0.3468834688346884, 0.24369347929557353, 0.17763899731112848, 0.13268330606890075, 0.10079701251042025]\n",
      "weights 4.1611392\n",
      "new_x 0.3355443200000002\n",
      "transform_x [2.0, 0.888888888888889, 0.5245901639344263, 0.3468834688346884, 0.24369347929557353, 0.17763899731112848, 0.13268330606890075, 0.10079701251042025, 0.07751240256395552]\n",
      "weights 4.32891136\n",
      "new_x 0.2684354560000001\n",
      "transform_x [2.0, 0.888888888888889, 0.5245901639344263, 0.3468834688346884, 0.24369347929557353, 0.17763899731112848, 0.13268330606890075, 0.10079701251042025, 0.07751240256395552, 0.06014512480083572]\n",
      "weights 4.4631290880000005\n",
      "new_x 0.21474836480000012\n",
      "transform_x [2.0, 0.888888888888889, 0.5245901639344263, 0.3468834688346884, 0.24369347929557353, 0.17763899731112848, 0.13268330606890075, 0.10079701251042025, 0.07751240256395552, 0.06014512480083572, 0.04698571515981123]\n",
      "weights 4.570503270400001\n",
      "new_x 0.1717986918400001\n",
      "transform_x [2.0, 0.888888888888889, 0.5245901639344263, 0.3468834688346884, 0.24369347929557353, 0.17763899731112848, 0.13268330606890075, 0.10079701251042025, 0.07751240256395552, 0.06014512480083572, 0.04698571515981123, 0.036895154048292814]\n",
      "weights 4.65640261632\n"
     ]
    },
    {
     "data": {
      "text/plain": [
       "[<matplotlib.lines.Line2D at 0x2b091840070>]"
      ]
     },
     "execution_count": 18,
     "metadata": {},
     "output_type": "execute_result"
    },
    {
     "data": {
      "image/png": "[encoded data removed]",
      "text/plain": [
       "<Figure size 432x288 with 1 Axes>"
      ]
     },
     "metadata": {
      "needs_background": "light"
     },
     "output_type": "display_data"
    }
   ],
   "source": [
    "plt.plot(carryover(x, alpha=0.8, L=len(x)))"
   ]
  },
  {
   "cell_type": "code",
   "execution_count": 30,
   "id": "951ea0e6",
   "metadata": {},
   "outputs": [
    {
     "name": "stdout",
     "output_type": "stream",
     "text": [
      "delayed\n"
     ]
    },
    {
     "data": {
      "text/plain": [
       "[<matplotlib.lines.Line2D at 0x10c67020730>]"
      ]
     },
     "execution_count": 30,
     "metadata": {},
     "output_type": "execute_result"
    },
    {
     "data": {
      "image/png": "[encoded data removed]",
      "text/plain": [
       "<Figure size 432x288 with 1 Axes>"
      ]
     },
     "metadata": {
      "needs_background": "light"
     },
     "output_type": "display_data"
    }
   ],
   "source": [
    "plt.plot(carryover(x, alpha=0.8, L=len(x), theta=3, func=\"delayed\"))"
   ]
  },
  {
   "cell_type": "code",
   "execution_count": 240,
   "id": "d93017a8",
   "metadata": {},
   "outputs": [
    {
     "data": {
      "text/plain": [
       "2.3183568567084607"
      ]
     },
     "execution_count": 240,
     "metadata": {},
     "output_type": "execute_result"
    },
    {
     "data": {
      "image/png": "[encoded data removed]",
      "text/plain": [
       "<Figure size 432x288 with 1 Axes>"
      ]
     },
     "metadata": {
      "needs_background": "light"
     },
     "output_type": "display_data"
    }
   ],
   "source": [
    "geo = carryover(x, alpha=0.8, L=len(x))\n",
    "geo.sum()"
   ]
  },
  {
   "cell_type": "code",
   "execution_count": 249,
   "id": "882279b0",
   "metadata": {},
   "outputs": [
    {
     "name": "stdout",
     "output_type": "stream",
     "text": [
      "delayed\n",
      "delayed\n"
     ]
    },
    {
     "data": {
      "text/plain": [
       "2.3303969952496413"
      ]
     },
     "execution_count": 249,
     "metadata": {},
     "output_type": "execute_result"
    },
    {
     "data": {
      "image/png": "[encoded data removed]",
      "text/plain": [
       "<Figure size 432x288 with 1 Axes>"
      ]
     },
     "metadata": {
      "needs_background": "light"
     },
     "output_type": "display_data"
    }
   ],
   "source": [
    "plt.plot(carryover(x, alpha=0.8, L=len(x), theta=1.6, func=\"delayed\"))\n",
    "delay = carryover(x, alpha=0.8, L=len(x), theta=1.6, func=\"delayed\")\n",
    "delay.sum()"
   ]
  },
  {
   "cell_type": "markdown",
   "id": "bb45b795",
   "metadata": {},
   "source": [
    "# is_fittedやcheck_arrayを使うとエラーを拾いやすくなります。"
   ]
  },
  {
   "cell_type": "code",
   "execution_count": 3,
   "id": "d798c901",
   "metadata": {},
   "outputs": [],
   "source": [
    "from sklearn.utils import check_array\n",
    "from sklearn.utils.validation import check_is_fitted\n",
    "\n",
    "class AdstockGeometric(BaseEstimator, TransformerMixin):\n",
    "    def __init__(self, alpha=0.5):\n",
    "        self.alpha = alpha\n",
    "        \n",
    "    def fit(self, X, y=None):\n",
    "        X = check_array(X)\n",
    "        self._check_n_features(X, reset=True)\n",
    "        return self\n",
    "    \n",
    "    def transform(self, X: np.ndarray):\n",
    "        check_is_fitted(self)\n",
    "        X = check_array(X)\n",
    "        self._check_n_features(X, reset=False)\n",
    "        x_decayed = np.zeros_like(X)\n",
    "        x_decayed[0] = X[0]\n",
    "        \n",
    "        for xi in range(1, len(x_decayed)):\n",
    "            x_decayed[xi] = X[xi] + self.alpha* x_decayed[xi - 1]\n",
    "        return x_decayed"
   ]
  },
  {
   "cell_type": "code",
   "execution_count": 4,
   "id": "3eace03d",
   "metadata": {},
   "outputs": [
    {
     "ename": "NotFittedError",
     "evalue": "This AdstockGeometric instance is not fitted yet. Call 'fit' with appropriate arguments before using this estimator.",
     "output_type": "error",
     "traceback": [
      "\u001b[1;31m---------------------------------------------------------------------------\u001b[0m",
      "\u001b[1;31mNotFittedError\u001b[0m                            Traceback (most recent call last)",
      "\u001b[1;32mC:\\Users\\MAKOTO~1.MIZ\\AppData\\Local\\Temp/ipykernel_11800/2389545922.py\u001b[0m in \u001b[0;36m<module>\u001b[1;34m\u001b[0m\n\u001b[0;32m      1\u001b[0m \u001b[0mx\u001b[0m \u001b[1;33m=\u001b[0m \u001b[0mnp\u001b[0m\u001b[1;33m.\u001b[0m\u001b[0marray\u001b[0m\u001b[1;33m(\u001b[0m\u001b[1;33m[\u001b[0m\u001b[1;36m1.0\u001b[0m\u001b[1;33m,\u001b[0m \u001b[1;36m1.0\u001b[0m\u001b[1;33m,\u001b[0m \u001b[1;36m0.0\u001b[0m\u001b[1;33m,\u001b[0m \u001b[1;36m0.0\u001b[0m\u001b[1;33m,\u001b[0m \u001b[1;36m0.0\u001b[0m\u001b[1;33m]\u001b[0m\u001b[1;33m)\u001b[0m\u001b[1;33m\u001b[0m\u001b[1;33m\u001b[0m\u001b[0m\n\u001b[1;32m----> 2\u001b[1;33m \u001b[0mAdstockGeometric\u001b[0m\u001b[1;33m(\u001b[0m\u001b[1;36m0.4\u001b[0m\u001b[1;33m)\u001b[0m\u001b[1;33m.\u001b[0m\u001b[0mtransform\u001b[0m\u001b[1;33m(\u001b[0m\u001b[0mx\u001b[0m\u001b[1;33m)\u001b[0m\u001b[1;33m\u001b[0m\u001b[1;33m\u001b[0m\u001b[0m\n\u001b[0m",
      "\u001b[1;32mC:\\Users\\MAKOTO~1.MIZ\\AppData\\Local\\Temp/ipykernel_11800/2741302406.py\u001b[0m in \u001b[0;36mtransform\u001b[1;34m(self, X)\u001b[0m\n\u001b[0;32m     12\u001b[0m \u001b[1;33m\u001b[0m\u001b[0m\n\u001b[0;32m     13\u001b[0m     \u001b[1;32mdef\u001b[0m \u001b[0mtransform\u001b[0m\u001b[1;33m(\u001b[0m\u001b[0mself\u001b[0m\u001b[1;33m,\u001b[0m \u001b[0mX\u001b[0m\u001b[1;33m:\u001b[0m \u001b[0mnp\u001b[0m\u001b[1;33m.\u001b[0m\u001b[0mndarray\u001b[0m\u001b[1;33m)\u001b[0m\u001b[1;33m:\u001b[0m\u001b[1;33m\u001b[0m\u001b[1;33m\u001b[0m\u001b[0m\n\u001b[1;32m---> 14\u001b[1;33m         \u001b[0mcheck_is_fitted\u001b[0m\u001b[1;33m(\u001b[0m\u001b[0mself\u001b[0m\u001b[1;33m)\u001b[0m\u001b[1;33m\u001b[0m\u001b[1;33m\u001b[0m\u001b[0m\n\u001b[0m\u001b[0;32m     15\u001b[0m         \u001b[0mX\u001b[0m \u001b[1;33m=\u001b[0m \u001b[0mcheck_array\u001b[0m\u001b[1;33m(\u001b[0m\u001b[0mX\u001b[0m\u001b[1;33m)\u001b[0m\u001b[1;33m\u001b[0m\u001b[1;33m\u001b[0m\u001b[0m\n\u001b[0;32m     16\u001b[0m         \u001b[0mself\u001b[0m\u001b[1;33m.\u001b[0m\u001b[0m_check_n_features\u001b[0m\u001b[1;33m(\u001b[0m\u001b[0mX\u001b[0m\u001b[1;33m,\u001b[0m \u001b[0mreset\u001b[0m\u001b[1;33m=\u001b[0m\u001b[1;32mFalse\u001b[0m\u001b[1;33m)\u001b[0m\u001b[1;33m\u001b[0m\u001b[1;33m\u001b[0m\u001b[0m\n",
      "\u001b[1;32m~\\Anaconda3\\lib\\site-packages\\sklearn\\utils\\validation.py\u001b[0m in \u001b[0;36minner_f\u001b[1;34m(*args, **kwargs)\u001b[0m\n\u001b[0;32m     61\u001b[0m             \u001b[0mextra_args\u001b[0m \u001b[1;33m=\u001b[0m \u001b[0mlen\u001b[0m\u001b[1;33m(\u001b[0m\u001b[0margs\u001b[0m\u001b[1;33m)\u001b[0m \u001b[1;33m-\u001b[0m \u001b[0mlen\u001b[0m\u001b[1;33m(\u001b[0m\u001b[0mall_args\u001b[0m\u001b[1;33m)\u001b[0m\u001b[1;33m\u001b[0m\u001b[1;33m\u001b[0m\u001b[0m\n\u001b[0;32m     62\u001b[0m             \u001b[1;32mif\u001b[0m \u001b[0mextra_args\u001b[0m \u001b[1;33m<=\u001b[0m \u001b[1;36m0\u001b[0m\u001b[1;33m:\u001b[0m\u001b[1;33m\u001b[0m\u001b[1;33m\u001b[0m\u001b[0m\n\u001b[1;32m---> 63\u001b[1;33m                 \u001b[1;32mreturn\u001b[0m \u001b[0mf\u001b[0m\u001b[1;33m(\u001b[0m\u001b[1;33m*\u001b[0m\u001b[0margs\u001b[0m\u001b[1;33m,\u001b[0m \u001b[1;33m**\u001b[0m\u001b[0mkwargs\u001b[0m\u001b[1;33m)\u001b[0m\u001b[1;33m\u001b[0m\u001b[1;33m\u001b[0m\u001b[0m\n\u001b[0m\u001b[0;32m     64\u001b[0m \u001b[1;33m\u001b[0m\u001b[0m\n\u001b[0;32m     65\u001b[0m             \u001b[1;31m# extra_args > 0\u001b[0m\u001b[1;33m\u001b[0m\u001b[1;33m\u001b[0m\u001b[0m\n",
      "\u001b[1;32m~\\Anaconda3\\lib\\site-packages\\sklearn\\utils\\validation.py\u001b[0m in \u001b[0;36mcheck_is_fitted\u001b[1;34m(estimator, attributes, msg, all_or_any)\u001b[0m\n\u001b[0;32m   1096\u001b[0m \u001b[1;33m\u001b[0m\u001b[0m\n\u001b[0;32m   1097\u001b[0m     \u001b[1;32mif\u001b[0m \u001b[1;32mnot\u001b[0m \u001b[0mattrs\u001b[0m\u001b[1;33m:\u001b[0m\u001b[1;33m\u001b[0m\u001b[1;33m\u001b[0m\u001b[0m\n\u001b[1;32m-> 1098\u001b[1;33m         \u001b[1;32mraise\u001b[0m \u001b[0mNotFittedError\u001b[0m\u001b[1;33m(\u001b[0m\u001b[0mmsg\u001b[0m \u001b[1;33m%\u001b[0m \u001b[1;33m{\u001b[0m\u001b[1;34m'name'\u001b[0m\u001b[1;33m:\u001b[0m \u001b[0mtype\u001b[0m\u001b[1;33m(\u001b[0m\u001b[0mestimator\u001b[0m\u001b[1;33m)\u001b[0m\u001b[1;33m.\u001b[0m\u001b[0m__name__\u001b[0m\u001b[1;33m}\u001b[0m\u001b[1;33m)\u001b[0m\u001b[1;33m\u001b[0m\u001b[1;33m\u001b[0m\u001b[0m\n\u001b[0m\u001b[0;32m   1099\u001b[0m \u001b[1;33m\u001b[0m\u001b[0m\n\u001b[0;32m   1100\u001b[0m \u001b[1;33m\u001b[0m\u001b[0m\n",
      "\u001b[1;31mNotFittedError\u001b[0m: This AdstockGeometric instance is not fitted yet. Call 'fit' with appropriate arguments before using this estimator."
     ]
    }
   ],
   "source": [
    "x = np.array([1.0, 1.0, 0.0, 0.0, 0.0])\n",
    "#エラーを発生させます。\n",
    "AdstockGeometric(0.4).transform(x)"
   ]
  },
  {
   "cell_type": "code",
   "execution_count": null,
   "id": "05da2222",
   "metadata": {},
   "outputs": [],
   "source": []
  }
 ],
 "metadata": {
  "kernelspec": {
   "display_name": "Python 3 (ipykernel)",
   "language": "python",
   "name": "python3"
  },
  "language_info": {
   "codemirror_mode": {
    "name": "ipython",
    "version": 3
   },
   "file_extension": ".py",
   "mimetype": "text/x-python",
   "name": "python",
   "nbconvert_exporter": "python",
   "pygments_lexer": "ipython3",
   "version": "3.6.5"
  }
 },
 "nbformat": 4,
 "nbformat_minor": 5
}
